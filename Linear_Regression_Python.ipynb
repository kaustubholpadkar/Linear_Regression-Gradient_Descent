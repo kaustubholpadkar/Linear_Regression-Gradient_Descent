{
  "nbformat": 4,
  "nbformat_minor": 0,
  "metadata": {
    "colab": {
      "name": "Linear Regression Python.ipynb",
      "version": "0.3.2",
      "provenance": [],
      "collapsed_sections": []
    },
    "kernelspec": {
      "name": "python3",
      "display_name": "Python 3"
    },
    "accelerator": "GPU"
  },
  "cells": [
    {
      "cell_type": "markdown",
      "metadata": {
        "id": "view-in-github",
        "colab_type": "text"
      },
      "source": [
        "[View in Colaboratory](https://colab.research.google.com/github/kaustubholpadkar/Linear_Regression-Gradient_Descent-Octave/blob/master/Linear_Regression_Python.ipynb)"
      ]
    },
    {
      "metadata": {
        "id": "ON4WbEBvk9Z9",
        "colab_type": "text"
      },
      "cell_type": "markdown",
      "source": [
        "# Linear Regression\n",
        "## Predicting Student's marks from Study Hours"
      ]
    },
    {
      "metadata": {
        "id": "RKxoZ5lknWll",
        "colab_type": "text"
      },
      "cell_type": "markdown",
      "source": [
        "### Import Libraries"
      ]
    },
    {
      "metadata": {
        "id": "Lq6qDjhHnbak",
        "colab_type": "code",
        "colab": {}
      },
      "cell_type": "code",
      "source": [
        "import numpy as np\n",
        "import matplotlib.pyplot as plt"
      ],
      "execution_count": 0,
      "outputs": []
    },
    {
      "metadata": {
        "id": "W5b_-H-zn3_O",
        "colab_type": "text"
      },
      "cell_type": "markdown",
      "source": [
        "### Read Data"
      ]
    },
    {
      "metadata": {
        "id": "T1a23JYWn5oM",
        "colab_type": "code",
        "colab": {}
      },
      "cell_type": "code",
      "source": [
        "data = np.genfromtxt('https://raw.githubusercontent.com/kaustubholpadkar/Linear_Regression-Gradient_Descent-Octave/master/data.csv', delimiter=',')"
      ],
      "execution_count": 0,
      "outputs": []
    },
    {
      "metadata": {
        "id": "Ip2EQ_PGoQJO",
        "colab_type": "code",
        "colab": {
          "base_uri": "https://localhost:8080/",
          "height": 34
        },
        "outputId": "226bbb0b-0845-46c3-9561-d7fcfb27eb1e"
      },
      "cell_type": "code",
      "source": [
        "data.shape"
      ],
      "execution_count": 6,
      "outputs": [
        {
          "output_type": "execute_result",
          "data": {
            "text/plain": [
              "(100, 2)"
            ]
          },
          "metadata": {
            "tags": []
          },
          "execution_count": 6
        }
      ]
    },
    {
      "metadata": {
        "id": "8rMv-L53odN5",
        "colab_type": "text"
      },
      "cell_type": "markdown",
      "source": [
        "### Seperate Data into X and Y"
      ]
    },
    {
      "metadata": {
        "id": "uop_AFQSolHl",
        "colab_type": "code",
        "colab": {}
      },
      "cell_type": "code",
      "source": [
        "X = data[:, 0]\n",
        "Y = data[:, 1]"
      ],
      "execution_count": 0,
      "outputs": []
    },
    {
      "metadata": {
        "id": "wPSTKDAXpLAN",
        "colab_type": "text"
      },
      "cell_type": "markdown",
      "source": [
        "### Visualize the Data"
      ]
    },
    {
      "metadata": {
        "id": "qdTK7EOQpL5Y",
        "colab_type": "code",
        "colab": {
          "base_uri": "https://localhost:8080/",
          "height": 404
        },
        "outputId": "251e0c8c-2186-411a-df29-502c90b4cc85"
      },
      "cell_type": "code",
      "source": [
        "fig = plt.figure()\n",
        "plt.scatter(X, Y)\n",
        "fig.suptitle('Student Data : Expected Marks vs Hours of Study', fontsize=18)\n",
        "plt.xlabel('Hours of Study', fontsize=14)\n",
        "plt.ylabel('Expected Marks', fontsize=14)\n",
        "plt.show()"
      ],
      "execution_count": 8,
      "outputs": [
        {
          "output_type": "display_data",
          "data": {
            "image/png": "[encoded data removed]",
            "text/plain": [
              "<matplotlib.figure.Figure at 0x7f291afff048>"
            ]
          },
          "metadata": {
            "tags": []
          }
        }
      ]
    },
    {
      "metadata": {
        "id": "Yrjucdifq_mt",
        "colab_type": "text"
      },
      "cell_type": "markdown",
      "source": [
        "### Hyperparameters"
      ]
    },
    {
      "metadata": {
        "id": "OwVfkk3RrC_I",
        "colab_type": "code",
        "colab": {}
      },
      "cell_type": "code",
      "source": [
        "learning_rate = 0.0001\n",
        "max_iteration = 50"
      ],
      "execution_count": 0,
      "outputs": []
    },
    {
      "metadata": {
        "id": "EzXaG70OrZtn",
        "colab_type": "text"
      },
      "cell_type": "markdown",
      "source": [
        "### Parameters"
      ]
    },
    {
      "metadata": {
        "id": "2INJM9AIrcBu",
        "colab_type": "code",
        "colab": {}
      },
      "cell_type": "code",
      "source": [
        "m = 0\n",
        "b = 0"
      ],
      "execution_count": 0,
      "outputs": []
    },
    {
      "metadata": {
        "id": "FPt2eKjBr1Lx",
        "colab_type": "text"
      },
      "cell_type": "markdown",
      "source": [
        "### Hypothesis"
      ]
    },
    {
      "metadata": {
        "id": "enVE4tHWsBBF",
        "colab_type": "code",
        "colab": {}
      },
      "cell_type": "code",
      "source": [
        "def h (m, b, X) :\n",
        "  return m * X + b"
      ],
      "execution_count": 0,
      "outputs": []
    },
    {
      "metadata": {
        "id": "IA9I6vaXs7nb",
        "colab_type": "text"
      },
      "cell_type": "markdown",
      "source": [
        "### Loss Function"
      ]
    },
    {
      "metadata": {
        "id": "3KOQVUjBs-Ub",
        "colab_type": "code",
        "colab": {}
      },
      "cell_type": "code",
      "source": [
        "def loss (m, b, X, Y) :\n",
        "  return np.average(np.square(Y - h(m, b, X))) / 2"
      ],
      "execution_count": 0,
      "outputs": []
    },
    {
      "metadata": {
        "id": "7TE79NG-tyLG",
        "colab_type": "text"
      },
      "cell_type": "markdown",
      "source": [
        "### Calculate Gradients"
      ]
    },
    {
      "metadata": {
        "id": "yy9yxye4t0BJ",
        "colab_type": "code",
        "colab": {}
      },
      "cell_type": "code",
      "source": [
        "def gradient (m, b, X, Y) :\n",
        "  dm = - np.average((Y - h(m, b, X)) * X)\n",
        "  db = - np.average(Y - h(m, b, X))\n",
        "  return (dm, db)"
      ],
      "execution_count": 0,
      "outputs": []
    },
    {
      "metadata": {
        "id": "jVo5TbKyu9KL",
        "colab_type": "text"
      },
      "cell_type": "markdown",
      "source": [
        "### Gradient Descent"
      ]
    },
    {
      "metadata": {
        "id": "fprg4-tcu-4v",
        "colab_type": "code",
        "colab": {}
      },
      "cell_type": "code",
      "source": [
        "def gradient_descent (m, b, X, Y, learning_rate, max_iteration) :\n",
        "  for i in range(max_iteration) :\n",
        "    dm, db = gradient (m, b, X, Y)\n",
        "    m -= learning_rate * dm\n",
        "    b -= learning_rate * db\n",
        "    if i % 10 == 0 :\n",
        "      print ('iteration : ', i, ' loss : ', loss(m, b, X, Y)) \n",
        "  return (m, b)"
      ],
      "execution_count": 0,
      "outputs": []
    },
    {
      "metadata": {
        "id": "uMIZFxUhwQZO",
        "colab_type": "text"
      },
      "cell_type": "markdown",
      "source": [
        "### Train Model"
      ]
    },
    {
      "metadata": {
        "id": "-0okDGSCwUC7",
        "colab_type": "code",
        "colab": {
          "base_uri": "https://localhost:8080/",
          "height": 102
        },
        "outputId": "221dd109-c839-49b7-e354-29ab97c6fa8b"
      },
      "cell_type": "code",
      "source": [
        "m, b = gradient_descent (m, b, X, Y, learning_rate, max_iteration)"
      ],
      "execution_count": 15,
      "outputs": [
        {
          "output_type": "stream",
          "text": [
            "iteration :  0  loss :  1593.1334591670338\n",
            "iteration :  10  loss :  61.30482288585254\n",
            "iteration :  20  loss :  56.34127863702311\n",
            "iteration :  30  loss :  56.32510567688097\n",
            "iteration :  40  loss :  56.324963270541446\n"
          ],
          "name": "stdout"
        }
      ]
    },
    {
      "metadata": {
        "id": "MFp2MUlexVd5",
        "colab_type": "text"
      },
      "cell_type": "markdown",
      "source": [
        "### Optimal values of Parameters using Trained Model"
      ]
    },
    {
      "metadata": {
        "id": "tcMQWkuvwYu7",
        "colab_type": "code",
        "colab": {
          "base_uri": "https://localhost:8080/",
          "height": 34
        },
        "outputId": "02ba6dd8-b680-4582-e5ad-95a81c741121"
      },
      "cell_type": "code",
      "source": [
        "m, b"
      ],
      "execution_count": 16,
      "outputs": [
        {
          "output_type": "execute_result",
          "data": {
            "text/plain": [
              "(1.4788903781318357, 0.030569950649287976)"
            ]
          },
          "metadata": {
            "tags": []
          },
          "execution_count": 16
        }
      ]
    },
    {
      "metadata": {
        "id": "vsa_VlHd8ged",
        "colab_type": "text"
      },
      "cell_type": "markdown",
      "source": [
        "### Linear Regression using *polyfit*  function of **numpy**"
      ]
    },
    {
      "metadata": {
        "id": "WJajnpzW8p2L",
        "colab_type": "code",
        "colab": {}
      },
      "cell_type": "code",
      "source": [
        "np_m, np_b = np.polyfit(X, Y, 1)"
      ],
      "execution_count": 0,
      "outputs": []
    },
    {
      "metadata": {
        "id": "MjJ7Di8z8-Qb",
        "colab_type": "text"
      },
      "cell_type": "markdown",
      "source": [
        "### Optimal values of Parameters using Numpy Linear Regression"
      ]
    },
    {
      "metadata": {
        "id": "z4G5h9Ki7IJi",
        "colab_type": "code",
        "colab": {
          "base_uri": "https://localhost:8080/",
          "height": 34
        },
        "outputId": "03017381-1e77-448b-e667-720a070833f7"
      },
      "cell_type": "code",
      "source": [
        "np_m, np_b"
      ],
      "execution_count": 18,
      "outputs": [
        {
          "output_type": "execute_result",
          "data": {
            "text/plain": [
              "(1.32243102275536, 7.991020982270385)"
            ]
          },
          "metadata": {
            "tags": []
          },
          "execution_count": 18
        }
      ]
    },
    {
      "metadata": {
        "id": "Dh6PmQOwxcKk",
        "colab_type": "text"
      },
      "cell_type": "markdown",
      "source": [
        "### Visualize the Data"
      ]
    },
    {
      "metadata": {
        "id": "B0h7MJE0xcKo",
        "colab_type": "code",
        "colab": {
          "base_uri": "https://localhost:8080/",
          "height": 404
        },
        "outputId": "5218e8ce-c82d-47cd-9631-29c1fd90a2e3"
      },
      "cell_type": "code",
      "source": [
        "fig = plt.figure()\n",
        "\n",
        "# Generate data for plotting Line\n",
        "x = np.arange(25, 75)\n",
        "y = [m * x_i + b for x_i in x]\n",
        "\n",
        "# Generate data for plotting Line Numpy Linear Regression\n",
        "np_x = np.arange(25, 75)\n",
        "np_y = [np_m * x_i + np_b for x_i in np_x]\n",
        "\n",
        "# plot data and best-fit lines\n",
        "plt.plot(X, Y, 'o', x, y, '-', np_x, np_y, '--')\n",
        "plt.legend(loc='upper left', labels=['data points', 'best-fit line', 'numpy line'])\n",
        "\n",
        "fig.suptitle('Linear Regression : Expected Marks vs Hours of Study', fontsize=18)\n",
        "plt.xlabel('Hours of Study', fontsize=14)\n",
        "plt.ylabel('Expected Marks', fontsize=14)\n",
        "plt.show()"
      ],
      "execution_count": 19,
      "outputs": [
        {
          "output_type": "display_data",
          "data": {
            "image/png": "[encoded data removed]",
            "text/plain": [
              "<matplotlib.figure.Figure at 0x7f291ab47048>"
            ]
          },
          "metadata": {
            "tags": []
          }
        }
      ]
    }
  ]
}